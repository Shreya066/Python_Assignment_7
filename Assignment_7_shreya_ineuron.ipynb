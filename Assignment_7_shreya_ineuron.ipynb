{
 "cells": [
  {
   "cell_type": "markdown",
   "id": "550c69fe",
   "metadata": {},
   "source": [
    "**1. What is the name of the feature responsible for generating Regex objects?**\n",
    "\n",
    "re.compile ( )"
   ]
  },
  {
   "cell_type": "markdown",
   "id": "3e5745b3",
   "metadata": {},
   "source": [
    "**2. Why do raw strings often appear in Regex objects?**\n",
    "\n",
    "Raw strings often appear in regex objects so that backslashes do not have to be escaped. Raw string notation (r\"pattern\") keeps regular expressions meaningful and confusion free keeping it similar with all other languages. Without it, every backslash (' \\ ') in a regular expression would have to be prefixed with another one to escape it."
   ]
  },
  {
   "cell_type": "markdown",
   "id": "6ca91eef",
   "metadata": {},
   "source": [
    "**3. What is the return value of the search() method?**\n",
    "\n",
    "It will return match objects if there exists a match otherwise the value None is returned."
   ]
  },
  {
   "cell_type": "code",
   "execution_count": 1,
   "id": "338e2779",
   "metadata": {},
   "outputs": [
    {
     "name": "stdout",
     "output_type": "stream",
     "text": [
      "Return_Value- <re.Match object; span=(4, 5), match='y'>\n",
      "Return_Value- None\n"
     ]
    }
   ],
   "source": [
    "#for example:-\n",
    "import re\n",
    "\n",
    "a = re.search('y','shreya')\n",
    "print('Return_Value-', a)\n",
    "\n",
    "a = re.search('z', 'shreya')\n",
    "print('Return_Value-', a)\n"
   ]
  },
  {
   "cell_type": "markdown",
   "id": "e85743b5",
   "metadata": {},
   "source": [
    "**4. From a Match item, how do you get the actual strings that match the pattern?**\n",
    "\n",
    "By using group() method"
   ]
  },
  {
   "cell_type": "code",
   "execution_count": 2,
   "id": "fb11c632",
   "metadata": {},
   "outputs": [
    {
     "name": "stdout",
     "output_type": "stream",
     "text": [
      "Actual_String - weather\n"
     ]
    }
   ],
   "source": [
    "#for example:-\n",
    "import re\n",
    "\n",
    "x = re.search('weather', 'the weather in dehradun is pleasant in winters')\n",
    "print('Actual_String -', x.group())"
   ]
  },
  {
   "cell_type": "markdown",
   "id": "d9d35939",
   "metadata": {},
   "source": [
    "**5. In the regex which created from the r'(\\d\\d\\d)-(\\d\\d\\d-\\d\\d\\d\\d)', what does group zero cover? Group 2? Group 1?**\n",
    "\n",
    "Group zero will cover the entire pattern match  <br>\n",
    "Group 1 will cover (\\d\\d\\d) <br>\n",
    "Group 2 will cover (\\d\\d\\d-\\d\\d\\d\\d) "
   ]
  },
  {
   "cell_type": "code",
   "execution_count": 3,
   "id": "bc8fc786",
   "metadata": {},
   "outputs": [
    {
     "name": "stdout",
     "output_type": "stream",
     "text": [
      "011-222-0640\n",
      "011\n",
      "222-0640\n"
     ]
    }
   ],
   "source": [
    "import re\n",
    "\n",
    "matchObj = re.search( r'(\\d\\d\\d)-(\\d\\d\\d-\\d\\d\\d\\d)', '011-222-0640')\n",
    "\n",
    "print(matchObj.group(0))\n",
    "print(matchObj.group(1))\n",
    "print(matchObj.group(2))"
   ]
  },
  {
   "cell_type": "markdown",
   "id": "28d26fdc",
   "metadata": {},
   "source": [
    "**6. In standard expression syntax, parentheses and intervals have distinct meanings. How can you tell a regex that you want it to fit real parentheses and periods?**\n",
    "\n",
    "You can tell a regex that you want it to fit real parentheses and periods by using escape characters **\\ .** , **\\ (** and **\\ )** and passing it to re.compile ( )."
   ]
  },
  {
   "cell_type": "code",
   "execution_count": 4,
   "id": "94c91127",
   "metadata": {},
   "outputs": [
    {
     "name": "stdout",
     "output_type": "stream",
     "text": [
      "(011)-222-0640\n"
     ]
    }
   ],
   "source": [
    "#for example:-\n",
    "import re\n",
    "\n",
    "matchObj = re.search(r'(\\(\\d\\d\\d\\))-(\\d\\d\\d-\\d\\d\\d\\d)', '(011)-222-0640')\n",
    "print(matchObj.group())"
   ]
  },
  {
   "cell_type": "markdown",
   "id": "02857c5f",
   "metadata": {},
   "source": [
    "**7. The findall() method returns a string list or a list of string tuples. What causes it to return one of the two options?**\n",
    "\n",
    "A list of strings is returned when regex has no groups whereas a list of string tuples is returned when reges has groups."
   ]
  },
  {
   "cell_type": "code",
   "execution_count": 5,
   "id": "b6798bbf",
   "metadata": {},
   "outputs": [
    {
     "name": "stdout",
     "output_type": "stream",
     "text": [
      "[('(011)', '222-0640')]\n",
      "['011-222-0640']\n"
     ]
    }
   ],
   "source": [
    "#for example:-\n",
    "import re\n",
    "\n",
    "#prints a list of string\n",
    "\n",
    "matchObj = re.compile(r'(\\(\\d\\d\\d\\))-(\\d\\d\\d-\\d\\d\\d\\d)')\n",
    "x = matchObj.findall('(011)-222-0640')\n",
    "print(x)\n",
    "\n",
    "#prints a list of string tuples\n",
    "import re\n",
    "\n",
    "matchObj = re.compile(r'\\d{3}-\\d{3}-\\d{4}')\n",
    "x = matchObj.findall('011-222-0640')\n",
    "print(x)"
   ]
  },
  {
   "cell_type": "markdown",
   "id": "2f8bef5f",
   "metadata": {},
   "source": [
    "**8. In standard expressions, what does the | character mean?**\n",
    "\n",
    "In standard expressions , | means 'OR' operator"
   ]
  },
  {
   "cell_type": "markdown",
   "id": "e5d6c2a1",
   "metadata": {},
   "source": [
    "**9. In regular expressions, what does the character ? stand for?**\n",
    "\n",
    "It checks if the string before the question mark in the regex occurs at least once or not at all."
   ]
  },
  {
   "cell_type": "markdown",
   "id": "df42161b",
   "metadata": {},
   "source": [
    "**10.In regular expressions, what is the difference between the + and * characters?**\n",
    "\n",
    "The + metacharacter stands for one or more occurrences whereas * metacharacter stands for any number of occurrences(including zero occurrences.)"
   ]
  },
  {
   "cell_type": "markdown",
   "id": "05d2b690",
   "metadata": {},
   "source": [
    "**11. What is the difference between {4} and {4,5} in regular expression?**\n",
    "\n",
    "{ } is used for repetitive quantifiers i.e. any pattern to match for certain repetitions. We can specify minimum and maximum allowed matches inside braces. So for the given question, { 4 } matches exactly 4 pattern and { 4 , 5 } matches 4 to 5 patterns."
   ]
  },
  {
   "cell_type": "markdown",
   "id": "3719b2bf",
   "metadata": {},
   "source": [
    "**12. What do you mean by the \\d, \\w, and \\s shorthand character classes signify in regular expressions?**\n",
    "\n",
    "\\d -  it matches any decimal digit and is equivalent to the set class [ 0 - 9 ] <br>\n",
    "\\w - it matches any alphanumeric character and is equivalent to the class [ a - zA - Z0 - 9] <br>\n",
    "\\s - it matches any whitespace character"
   ]
  },
  {
   "cell_type": "markdown",
   "id": "d592e489",
   "metadata": {},
   "source": [
    "**13. What do means by \\D, \\W, and \\S shorthand character classes signify in regular expressions?**\n",
    "\n",
    "\\D - it matches any non digit character which is equivalent to the set class [ ^0 - 9 ] <br>\n",
    "\\W - it matches any non alphanumeric character <br>\n",
    "\\S - it matches any non whitespace character"
   ]
  },
  {
   "cell_type": "markdown",
   "id": "d3cee42f",
   "metadata": {},
   "source": [
    "**14. What is the difference between .* ? and .* ?**\n",
    "\n",
    ".* ? preforms a non greedy match which means that this match will return the shortest possible string whereas .* performs a greedy match i.e.it will return the longest string which meets the condition."
   ]
  },
  {
   "cell_type": "markdown",
   "id": "afa6a109",
   "metadata": {},
   "source": [
    "**15. What is the syntax for matching both numbers and lowercase letters with a character class?**\n",
    "\n",
    "[ 0 - 9a - z ] or [ a - z0 - 9]"
   ]
  },
  {
   "cell_type": "markdown",
   "id": "15c23175",
   "metadata": {},
   "source": [
    "**16. What is the procedure for making a normal expression in regex case insensitive?**\n",
    "\n",
    "For making a normal expression in regex case insensitive, one can pass re.I or re.IGNORECASE as the second argument to re.compile( )."
   ]
  },
  {
   "cell_type": "markdown",
   "id": "8ef0a0b0",
   "metadata": {},
   "source": [
    "**17. What does the . character normally match? What does it match if re.DOTALL is passed as 2nd argument in re.compile()?**\n",
    "\n",
    "The . character matches any character except newline. If re.DOTALL is passed as the second argument in re.compile, then the dot will also match newline characters."
   ]
  },
  {
   "cell_type": "markdown",
   "id": "5214886f",
   "metadata": {},
   "source": [
    "**18. If numReg = re.compile(r'\\d+'), what will numRegex.sub('X', '11 drummers, 10 pipers, five rings, 4 hen') return?**\n",
    "\n",
    "OUTPUT: 'X drummers, X pipers, five rings, X hen'"
   ]
  },
  {
   "cell_type": "code",
   "execution_count": 6,
   "id": "a1dd0864",
   "metadata": {},
   "outputs": [
    {
     "data": {
      "text/plain": [
       "'X drummers, X pipers, five rings, X hen'"
      ]
     },
     "execution_count": 6,
     "metadata": {},
     "output_type": "execute_result"
    }
   ],
   "source": [
    "import re\n",
    "\n",
    "numReg = re.compile(r'\\d+')\n",
    "numReg.sub('X', '11 drummers, 10 pipers, five rings, 4 hen') "
   ]
  },
  {
   "cell_type": "markdown",
   "id": "582ea13f",
   "metadata": {},
   "source": [
    "**19. What does passing re.VERBOSE as the 2nd argument to re.compile() allow to do?**\n",
    "\n",
    "Passing re.VERBOSE as the 2nd argument to re.compile( ) will allow adding whitespace and comments to the string."
   ]
  },
  {
   "cell_type": "markdown",
   "id": "1fb0adb4",
   "metadata": {},
   "source": [
    "**20. How would you write a regex that match a number with comma for every three digits? It must match the given following:\n",
    "'42'\n",
    "'1,234'\n",
    "'6,368,745'\n",
    "but not the following:\n",
    "'12,34,567' (which has only two digits between the commas)\n",
    "'1234' (which lacks commas)**\n",
    "\n",
    "\n",
    "(r'^\\d{1,3}(,\\d{3})*$')"
   ]
  },
  {
   "cell_type": "code",
   "execution_count": 7,
   "id": "d374570c",
   "metadata": {},
   "outputs": [
    {
     "name": "stdout",
     "output_type": "stream",
     "text": [
      "<re.Match object; span=(0, 2), match='42'>\n",
      "<re.Match object; span=(0, 5), match='1,234'>\n",
      "<re.Match object; span=(0, 9), match='6,368,745'>\n",
      "None\n",
      "None\n"
     ]
    }
   ],
   "source": [
    "import re\n",
    "\n",
    "regex = (r'^\\d{1,3}(,\\d{3})*$')\n",
    "x = re.compile(regex)\n",
    "for i in ['42','1,234', '6,368,745', '12,34,567', '1234']:\n",
    "    print(re.match(x,i))\n"
   ]
  },
  {
   "cell_type": "markdown",
   "id": "09622499",
   "metadata": {},
   "source": [
    "**21. How would you write a regex that matches the full name of someone whose last name is Watanabe? You can assume that the first name that comes before it will always be one word that begins with a capital letter. The regex must match the following:\n",
    "'Haruto Watanabe'\n",
    "'Alice Watanabe'\n",
    "'RoboCop Watanabe'\n",
    "but not the following:\n",
    "'haruto Watanabe' (where the first name is not capitalized)\n",
    "'Mr. Watanabe' (where the preceding word has a nonletter character)\n",
    "'Watanabe' (which has no first name)\n",
    "'Haruto watanabe' (where Watanabe is not capitalized)**\n",
    "\n",
    "(r'^[A-Z][A-Za-z]*\\sWatanabe$')"
   ]
  },
  {
   "cell_type": "code",
   "execution_count": 8,
   "id": "a6df2195",
   "metadata": {},
   "outputs": [
    {
     "name": "stdout",
     "output_type": "stream",
     "text": [
      "<re.Match object; span=(0, 15), match='Haruto Watanabe'>\n",
      "<re.Match object; span=(0, 14), match='Alice Watanabe'>\n",
      "<re.Match object; span=(0, 16), match='RoboCop Watanabe'>\n",
      "None\n",
      "None\n",
      "None\n",
      "None\n",
      "None\n"
     ]
    }
   ],
   "source": [
    "import re\n",
    "\n",
    "regex = (r'^[A-Z][A-Za-z]*\\sWatanabe$')\n",
    "x = re.compile(regex)\n",
    "for i in ['Haruto Watanabe','Alice Watanabe','RoboCop Watanabe','aHaruto Watanabe','haruto Watanabe','Mr. Watanabe','Watanabe','Haruto watanabe']:\n",
    "    print(re.search(x,i))"
   ]
  },
  {
   "cell_type": "markdown",
   "id": "a3b0d2bc",
   "metadata": {},
   "source": [
    "**22. How would you write a regex that matches a sentence where the first word is either Alice, Bob, or Carol; the second word is either eats, pets, or throws; the third word is apples, cats, or baseballs; and the sentence ends with a period? This regex should be case-insensitive. It must match the following:\n",
    "'Alice eats apples.'\n",
    "'Bob pets cats.'\n",
    "'Carol throws baseballs.'\n",
    "'Alice throws Apples.'\n",
    "'BOB EATS CATS.'\n",
    "but not the following:\n",
    "'RoboCop eats apples.'\n",
    "'ALICE THROWS FOOTBALLS.'\n",
    "'Carol eats 7 cats.'**\n",
    "\n"
   ]
  },
  {
   "cell_type": "code",
   "execution_count": 9,
   "id": "d8d82c10",
   "metadata": {},
   "outputs": [
    {
     "name": "stdout",
     "output_type": "stream",
     "text": [
      "<re.Match object; span=(0, 18), match='Alice eats apples.'>\n",
      "<re.Match object; span=(0, 14), match='Bob pets cats.'>\n",
      "<re.Match object; span=(0, 23), match='Carol throws baseballs.'>\n",
      "<re.Match object; span=(0, 20), match='Alice throws Apples.'>\n",
      "<re.Match object; span=(0, 14), match='BOB EATS CATS.'>\n",
      "None\n",
      "None\n",
      "None\n"
     ]
    }
   ],
   "source": [
    "import re\n",
    "\n",
    "regex = (r'^(Alice|Bob|Carol)\\s(eats|pets|throws)\\s(apples|cats|baseballs)\\.$')\n",
    "x = re.compile(regex,re.IGNORECASE)\n",
    "for i in[ 'Alice eats apples.','Bob pets cats.','Carol throws baseballs.','Alice throws Apples.','BOB EATS CATS.','RoboCop eats apples.','ALICE THROWS FOOTBALLS.','Carol eats 7 cats.']:\n",
    "    print(re.search(x,i))\n",
    "    \n"
   ]
  }
 ],
 "metadata": {
  "kernelspec": {
   "display_name": "Python 3 (ipykernel)",
   "language": "python",
   "name": "python3"
  },
  "language_info": {
   "codemirror_mode": {
    "name": "ipython",
    "version": 3
   },
   "file_extension": ".py",
   "mimetype": "text/x-python",
   "name": "python",
   "nbconvert_exporter": "python",
   "pygments_lexer": "ipython3",
   "version": "3.9.7"
  }
 },
 "nbformat": 4,
 "nbformat_minor": 5
}
